{
 "cells": [
  {
   "cell_type": "code",
   "execution_count": 27,
   "metadata": {},
   "outputs": [],
   "source": [
    "import pandas as pd\n",
    "import geopandas as gpd\n",
    "import folium\n",
    "from folium import plugins\n",
    "import geodatasets\n",
    "import matplotlib.pyplot as plt\n",
    "import plotly.express as px\n"
   ]
  },
  {
   "cell_type": "code",
   "execution_count": null,
   "metadata": {},
   "outputs": [],
   "source": [
    "crash_df = pd.read_csv('../Resources/Montgomery_Crash_Data.csv', index_col='Crash Date/Time', parse_dates=True)\n",
    "crash_df.head()"
   ]
  },
  {
   "cell_type": "code",
   "execution_count": null,
   "metadata": {},
   "outputs": [],
   "source": [
    "crash_df.info()"
   ]
  },
  {
   "cell_type": "code",
   "execution_count": null,
   "metadata": {},
   "outputs": [],
   "source": [
    "montgomery_gdf = gpd.GeoDataFrame(crash_df, geometry=gpd.points_from_xy(crash_df.Longitude, crash_df.Latitude), crs='EPSG:4326').sort_index()\n",
    "montgomery_gdf.loc['2020']\n"
   ]
  },
  {
   "cell_type": "code",
   "execution_count": null,
   "metadata": {},
   "outputs": [],
   "source": [
    "county_gdf = gpd.read_file('../Resources/Montgomery_County.json')\n",
    "county_gdf.head()"
   ]
  },
  {
   "cell_type": "code",
   "execution_count": null,
   "metadata": {},
   "outputs": [],
   "source": [
    "base = county_gdf.plot(color='white', edgecolor='black')\n",
    "montgomery_gdf.loc['2021-06'].plot(ax=base, marker='o', color='red', markersize=2)"
   ]
  },
  {
   "cell_type": "code",
   "execution_count": null,
   "metadata": {},
   "outputs": [],
   "source": [
    "filtered_data.loc[conditional]['Surface Condition'].value_counts()"
   ]
  },
  {
   "cell_type": "code",
   "execution_count": null,
   "metadata": {},
   "outputs": [],
   "source": [
    "filtered_data.loc['2020']['Injury Severity'].value_counts()"
   ]
  },
  {
   "cell_type": "code",
   "execution_count": null,
   "metadata": {},
   "outputs": [],
   "source": [
    "m = folium.Map(location=[39.1364, -77.1715], tiles=\"Cartodb dark_matter\", zoom_start=11) \n",
    "\n",
    "for _, r in county_gdf.iterrows():\n",
    "    # Without simplifying the representation of each borough,\n",
    "    # the map might not be displayed\n",
    "    sim_geo = gpd.GeoSeries(r[\"geometry\"]).simplify(tolerance=0.001)\n",
    "    geo_j = sim_geo.to_json()\n",
    "    geo_j = folium.GeoJson(data=geo_j, style_function=lambda x: {\"fillColor\": \"none\"})\n",
    "    folium.Popup(r[\"County\"]).add_to(geo_j)\n",
    "    geo_j.add_to(m)\n",
    "\n",
    "column = 'Surface Condition'\n",
    "value = 'ICE'\n",
    "year = '2015'\n",
    "\n",
    "column = 'Weather'\n",
    "value = 'RAIN'\n",
    "year = '2015'\n",
    "\n",
    "\n",
    "column = 'Injury Severity'\n",
    "value = 'FATAL INJURY'\n",
    "year = '2020'\n",
    "\n",
    "filtered_data = montgomery_gdf.loc[year:'2024']\n",
    "conditional = filtered_data[column] == value\n",
    "heat_data = [[point.xy[1][0], point.xy[0][0]] for point in filtered_data.loc[conditional].geometry]\n",
    "plugins.HeatMap(heat_data, min_opacity=.2, radius=20,zoom_start=2).add_to(m)\n",
    "\n",
    "\n",
    "for point in heat_data:\n",
    "    folium.CircleMarker(point, radius=.2, fill_color=\"black\", color=\"blue\").add_to(m)\n",
    "\n",
    "# fg = folium.FeatureGroup(name=\"Icon collection\", show=False).add_to(m)    \n",
    "folium.LayerControl().add_to(m)\n",
    "\n",
    "m"
   ]
  },
  {
   "cell_type": "code",
   "execution_count": null,
   "metadata": {},
   "outputs": [],
   "source": [
    "fig = px.density_mapbox(montgomery_gdf.loc['2020'], lat='Latitude', lon='Longitude', z='Vehicle Year', radius=15\n",
    "                        ,\n",
    "                        center = {'lat':39.1364,'lon':-77.1715}, zoom= 11, mapbox_style='carto-darkmatter', height=900, opacity=.5 )\n",
    "fig.show()"
   ]
  },
  {
   "cell_type": "code",
   "execution_count": null,
   "metadata": {},
   "outputs": [],
   "source": [
    "weeks = crash_df.index.isocalendar().week.sort_values().unique()\n",
    "\n",
    "plt.bar(weeks, crash_df.index.isocalendar().week.value_counts().sort_index())\n",
    "plt.title('Weekly Crashes')\n",
    "plt.xlabel('Weeks')\n",
    "plt.ylabel('Counts')\n",
    "plt.show()\n",
    "\n",
    "\n",
    "weekly_crash_count = crash_df.groupby([crash_df.index.isocalendar().year, crash_df.index.isocalendar().week])['Report Number'].count().reset_index()\n",
    "plt.bar(weeks, weekly_crash_count.groupby('week')['Report Number'].mean().round())\n",
    "plt.title('Weekly Crashes')\n",
    "plt.xlabel('Week')\n",
    "plt.ylabel('Average Crashes')\n",
    "plt.show()\n",
    "\n",
    "weekly_crash_count\n"
   ]
  },
  {
   "cell_type": "code",
   "execution_count": null,
   "metadata": {},
   "outputs": [],
   "source": [
    "days = ['Monday', 'Tuesday', 'Wednesday', 'Thursday', 'Friday', 'Saturday', 'Sunday']  # crash_df.index.isocalendar().day.sort_values().unique()\n",
    "\n",
    "# plt.figure(figsize=(10,8))\n",
    "plt.bar(days, crash_df.index.isocalendar().day.value_counts().sort_index())\n",
    "plt.title('Daily Crashes')\n",
    "plt.xlabel('Day')\n",
    "plt.ylabel('Counts')\n",
    "plt.xticks(rotation=45, ha='right', rotation_mode='anchor')\n",
    "plt.show()\n",
    "\n",
    "\n",
    "daily_crash_count = crash_df.groupby([crash_df.index.isocalendar().year, crash_df.index.isocalendar().week, crash_df.index.isocalendar().day])['Report Number'].count().reset_index()\n",
    "\n",
    "# plt.figure(figsize=(10,8))\n",
    "plt.bar(days, daily_crash_count.groupby('day')['Report Number'].mean().round())\n",
    "plt.title('Daily Average Crashes')\n",
    "plt.xlabel('Day')\n",
    "plt.ylabel('Average Crashes')\n",
    "plt.xticks(rotation=45, ha='right', rotation_mode='anchor')\n",
    "plt.show()"
   ]
  },
  {
   "cell_type": "code",
   "execution_count": null,
   "metadata": {},
   "outputs": [],
   "source": [
    "years = crash_df.index.isocalendar().year.sort_values().unique()\n",
    "plt.bar(years, montgomery_gdf.index.isocalendar().year.value_counts().sort_index())\n",
    "plt.grid(linestyle = '-' )\n",
    "plt.title('Yearly Crashes')\n",
    "plt.xlabel('Year')\n",
    "plt.ylabel('Counts')\n",
    "plt.show()"
   ]
  }
 ],
 "metadata": {
  "kernelspec": {
   "display_name": "dev",
   "language": "python",
   "name": "python3"
  },
  "language_info": {
   "codemirror_mode": {
    "name": "ipython",
    "version": 3
   },
   "file_extension": ".py",
   "mimetype": "text/x-python",
   "name": "python",
   "nbconvert_exporter": "python",
   "pygments_lexer": "ipython3",
   "version": "3.10.14"
  }
 },
 "nbformat": 4,
 "nbformat_minor": 2
}
