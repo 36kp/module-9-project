{
 "cells": [
  {
   "cell_type": "code",
   "execution_count": 12,
   "metadata": {},
   "outputs": [],
   "source": [
    "#Imports \n",
    "import requests\n",
    "import json\n",
    "import pandas as pd"
   ]
  },
  {
   "cell_type": "code",
   "execution_count": 13,
   "metadata": {},
   "outputs": [],
   "source": [
    "# Prepare query URL to fetch JSON data from Maryland Government site\n",
    "query_url = 'https://data.montgomerycountymd.gov/api/views/mmzv-x632/rows.json?accessType=DOWNLOAD'\n",
    "\n",
    "# Fetch data using requests\n",
    "response = requests.get(query_url)"
   ]
  },
  {
   "cell_type": "code",
   "execution_count": 14,
   "metadata": {},
   "outputs": [],
   "source": [
    "# Validate response status\n",
    "if response.status_code == 200 :\n",
    "    json_data = response.json()\n",
    "else :\n",
    "    print(f'URL returned response code {response.status_code}')"
   ]
  },
  {
   "cell_type": "code",
   "execution_count": null,
   "metadata": {},
   "outputs": [],
   "source": [
    "# Prepare a dictionary to create a DataFrame. Current response JSON contains \n",
    "# column names in meta attribute. Create list of dictionary with columns as keys\n",
    "dictionary_list = json_data['meta']['view']['columns']\n",
    "print(dictionary_list)"
   ]
  },
  {
   "cell_type": "code",
   "execution_count": null,
   "metadata": {},
   "outputs": [],
   "source": [
    "# Extract column names through list comprehension\n",
    "column_names = [dictionary['name'] for dictionary in dictionary_list][8:-9]\n",
    "print(column_names)"
   ]
  },
  {
   "cell_type": "code",
   "execution_count": null,
   "metadata": {},
   "outputs": [],
   "source": [
    "# Extract rows from JSON and put it in a list\n",
    "rows = []\n",
    "for list_data in json_data['data']:\n",
    "    data = list_data[8:-9]\n",
    "    rows.append({column:value for column, value in zip(column_names,data)})\n",
    "# Print first two records\n",
    "print(json.dumps(rows[0:2], indent=4))"
   ]
  },
  {
   "cell_type": "code",
   "execution_count": null,
   "metadata": {},
   "outputs": [],
   "source": [
    "# Create a DataFrame of crashes\n",
    "df_crashes = pd.DataFrame(rows)\n",
    "display(df_crashes.head())\n",
    "display(df_crashes.tail())"
   ]
  },
  {
   "cell_type": "code",
   "execution_count": null,
   "metadata": {},
   "outputs": [],
   "source": [
    "# Display columns\n",
    "df_crashes.info()"
   ]
  },
  {
   "cell_type": "code",
   "execution_count": null,
   "metadata": {},
   "outputs": [],
   "source": [
    "# Create a focused DataFrame with limited columns\n",
    "required_columns = ['Report Number','Crash Date/Time','Weather',\n",
    "                    'Surface Condition','Injury Severity','Vehicle ID',\n",
    "                    'Vehicle Year', 'Vehicle Make', 'Vehicle Model', 'Latitude', 'Longitude']\n",
    "\n",
    "# Create focused DataFrame\n",
    "df_focused_crashes = df_crashes[required_columns].copy()\n",
    "\n",
    "display(df_focused_crashes.head())\n",
    "display(df_focused_crashes.tail())"
   ]
  },
  {
   "cell_type": "code",
   "execution_count": 21,
   "metadata": {},
   "outputs": [],
   "source": [
    "df_focused_crashes['Crash Date/Time'] = pd.to_datetime(df_focused_crashes['Crash Date/Time'])"
   ]
  },
  {
   "cell_type": "code",
   "execution_count": null,
   "metadata": {},
   "outputs": [],
   "source": [
    "df_focused_crashes.drop_duplicates(subset='Report Number', inplace=True)\n",
    "df_focused_crashes.sort_values(by='Crash Date/Time', inplace=True)\n",
    "df_focused_crashes.head()\n"
   ]
  },
  {
   "cell_type": "code",
   "execution_count": null,
   "metadata": {},
   "outputs": [],
   "source": [
    "df_crashes['Injury Severity'] = df_crashes['Injury Severity'].str.upper()\n",
    "rename_values = {'POSSIBLE INJURY' : 'SUSPECTED MINOR INJURY'}\n",
    "df_crashes['Injury Severity'] = df_crashes['Injury Severity'].replace(rename_values)\n",
    "df_crashes['Injury Severity'] = df_crashes['Injury Severity']\n",
    "df_crashes['Injury Severity'] = df_crashes['Injury Severity'].fillna('NO APPARENT INJURY')\n",
    "df_crashes['Injury Severity'].value_counts(dropna=False)\n"
   ]
  },
  {
   "cell_type": "code",
   "execution_count": null,
   "metadata": {},
   "outputs": [],
   "source": [
    "# Clean up for weather values to have better visualization\n",
    "weather_mapping = {\n",
    "    'RAINING': 'RAIN',\n",
    "    'N/A': 'OTHER',\n",
    "    'SLEET': 'WINTRY MIX',\n",
    "    'BLOWING SNOW': 'SNOW',\n",
    "    'FOG, SMOG, SMOKE': 'FOGGY',\n",
    "    'FREEZING RAIN OR FREEZING DRIZZLE': 'WINTRY MIX',\n",
    "    'SEVERE WINDS': 'WINDY',\n",
    "    'SEVERE CROSSWINDS': 'WINDY',\n",
    "    'SLEET OR HAIL': 'WINTRY MIX',\n",
    "    'UNKNOWN': 'OTHER',\n",
    "    'BLOWING SAND, SOIL, DIRT': 'OTHER'\n",
    "    \n",
    "}\n",
    "# Fix for the descripancies in the text casing\n",
    "df_focused_crashes['Weather'] = df_focused_crashes['Weather'].str.upper()\n",
    "\n",
    "# Merge scattered values to relevant values\n",
    "df_focused_crashes['Weather'] = df_focused_crashes['Weather'].replace(weather_mapping)\n",
    "\n",
    "df_focused_crashes['Weather'].value_counts()"
   ]
  },
  {
   "cell_type": "code",
   "execution_count": null,
   "metadata": {},
   "outputs": [],
   "source": [
    "# Clean up for surface condition\n",
    "surface_condition_mapping = {\n",
    "    'N/A':'OTHER',\n",
    "    'UNKNOWN':'OTHER',\n",
    "    'SLUSH':'WINTRY MIX',\n",
    "    'ICE/FROST':'ICE',\n",
    "    'MUD, DIRT, GRAVEL':'OTHER',\n",
    "    'WATER(STANDING/MOVING)':'FLOOD',\n",
    "    'OIL':'OTHER',\n",
    "    'WATER (STANDING, MOVING)':'FLOOD',\n",
    "    'SAND': 'OTHER'\n",
    "}\n",
    "\n",
    "# # Fix for the descripancies in the text casing\n",
    "df_focused_crashes['Surface Condition'] = df_focused_crashes['Surface Condition'].str.upper()\n",
    "\n",
    "# Merge scattered values to relevant values\n",
    "df_focused_crashes['Surface Condition'] = df_focused_crashes['Surface Condition'].replace(surface_condition_mapping)\n",
    "\n",
    "df_focused_crashes['Surface Condition'].value_counts()\n"
   ]
  }
 ],
 "metadata": {
  "kernelspec": {
   "display_name": "dev",
   "language": "python",
   "name": "python3"
  },
  "language_info": {
   "codemirror_mode": {
    "name": "ipython",
    "version": 3
   },
   "file_extension": ".py",
   "mimetype": "text/x-python",
   "name": "python",
   "nbconvert_exporter": "python",
   "pygments_lexer": "ipython3",
   "version": "3.10.14"
  }
 },
 "nbformat": 4,
 "nbformat_minor": 2
}
