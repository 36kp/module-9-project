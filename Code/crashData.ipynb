{
 "cells": [
  {
   "cell_type": "code",
   "execution_count": 1,
   "metadata": {},
   "outputs": [],
   "source": [
    "#Imports \n",
    "import requests\n",
    "import json\n",
    "import pandas as pd\n",
    "import geopandas as gpd"
   ]
  },
  {
   "cell_type": "code",
   "execution_count": 2,
   "metadata": {},
   "outputs": [],
   "source": [
    "# Prepare query URL to fetch JSON data from Maryland Government site\n",
    "query_url = 'https://data.montgomerycountymd.gov/api/views/mmzv-x632/rows.json?accessType=DOWNLOAD'\n",
    "\n",
    "# Fetch data using requests\n",
    "response = requests.get(query_url)"
   ]
  },
  {
   "cell_type": "code",
   "execution_count": 3,
   "metadata": {},
   "outputs": [],
   "source": [
    "# Validate response status\n",
    "if response.status_code == 200 :\n",
    "    json_data = response.json()\n",
    "else :\n",
    "    print(f'URL returned response code {response.status_code}')"
   ]
  },
  {
   "cell_type": "code",
   "execution_count": null,
   "metadata": {},
   "outputs": [],
   "source": [
    "# Prepare a dictionary to create a DataFrame. Current response JSON contains \n",
    "# column names in meta attribute. Create list of dictionary with columns as keys\n",
    "dictionary_list = json_data['meta']['view']['columns']\n",
    "print(dictionary_list)"
   ]
  },
  {
   "cell_type": "code",
   "execution_count": null,
   "metadata": {},
   "outputs": [],
   "source": [
    "# Extract column names through list comprehension\n",
    "column_names = [dictionary['name'] for dictionary in dictionary_list][8:-9]\n",
    "print(column_names)"
   ]
  },
  {
   "cell_type": "code",
   "execution_count": null,
   "metadata": {},
   "outputs": [],
   "source": [
    "# Extract rows from JSON and put it in a list\n",
    "rows = []\n",
    "for list_data in json_data['data']:\n",
    "    data = list_data[8:-9]\n",
    "    rows.append({column:value for column, value in zip(column_names,data)})\n",
    "# Print first two records\n",
    "print(json.dumps(rows[0:2], indent=4))"
   ]
  },
  {
   "cell_type": "code",
   "execution_count": null,
   "metadata": {},
   "outputs": [],
   "source": [
    "# Create a DataFrame of crashes\n",
    "df_crashes = pd.DataFrame(rows)\n",
    "display(df_crashes.head())\n",
    "display(df_crashes.tail())"
   ]
  },
  {
   "cell_type": "code",
   "execution_count": null,
   "metadata": {},
   "outputs": [],
   "source": [
    "# Display columns\n",
    "df_crashes.info()"
   ]
  },
  {
   "cell_type": "code",
   "execution_count": null,
   "metadata": {},
   "outputs": [],
   "source": [
    "# Create a focused DataFrame with limited columns\n",
    "required_columns = ['Report Number','Crash Date/Time','Weather',\n",
    "                    'Surface Condition','Injury Severity','Vehicle ID',\n",
    "                    'Vehicle Year', 'Vehicle Make', 'Vehicle Model', 'Latitude', 'Longitude']\n",
    "\n",
    "# Create focused DataFrame\n",
    "df_focused_crashes = df_crashes[required_columns].copy()\n",
    "\n",
    "display(df_focused_crashes.head())\n",
    "display(df_focused_crashes.tail())"
   ]
  },
  {
   "cell_type": "code",
   "execution_count": 10,
   "metadata": {},
   "outputs": [],
   "source": [
    "df_focused_crashes['Crash Date/Time'] = pd.to_datetime(df_focused_crashes['Crash Date/Time'])"
   ]
  },
  {
   "cell_type": "code",
   "execution_count": null,
   "metadata": {},
   "outputs": [],
   "source": [
    "df_focused_crashes.drop_duplicates(subset='Report Number', inplace=True)\n",
    "df_focused_crashes.sort_values(by='Crash Date/Time', inplace=True)\n",
    "df_focused_crashes.head()\n"
   ]
  },
  {
   "cell_type": "code",
   "execution_count": null,
   "metadata": {},
   "outputs": [],
   "source": [
    "df_focused_crashes['Injury Severity'] = df_focused_crashes['Injury Severity'].str.upper()\n",
    "rename_values = {'POSSIBLE INJURY' : 'SUSPECTED MINOR INJURY'}\n",
    "df_focused_crashes['Injury Severity'] = df_focused_crashes['Injury Severity'].replace(rename_values)\n",
    "df_focused_crashes['Injury Severity'] = df_focused_crashes['Injury Severity']\n",
    "df_focused_crashes['Injury Severity'] = df_focused_crashes['Injury Severity'].fillna('NO APPARENT INJURY')\n",
    "df_focused_crashes['Injury Severity'].value_counts(dropna=False)\n"
   ]
  },
  {
   "cell_type": "code",
   "execution_count": 13,
   "metadata": {},
   "outputs": [],
   "source": [
    "# \n",
    "montgomery_gdf = gpd.GeoDataFrame(df_focused_crashes, geometry=gpd.points_from_xy(df_focused_crashes.Longitude, df_focused_crashes.Latitude))\n",
    "montgomery_gdf.crs = 'EPSG:4326'"
   ]
  },
  {
   "cell_type": "code",
   "execution_count": null,
   "metadata": {},
   "outputs": [],
   "source": [
    "montgomery_gdf.plot()"
   ]
  },
  {
   "cell_type": "code",
   "execution_count": 15,
   "metadata": {},
   "outputs": [],
   "source": [
    "county_gdf = gpd.read_file('../Resources/Montgomery_County.json')"
   ]
  },
  {
   "cell_type": "code",
   "execution_count": null,
   "metadata": {},
   "outputs": [],
   "source": [
    "county_gdf.plot()"
   ]
  },
  {
   "cell_type": "code",
   "execution_count": 17,
   "metadata": {},
   "outputs": [],
   "source": [
    "data_crash_clip = gpd.clip(montgomery_gdf, county_gdf)"
   ]
  },
  {
   "cell_type": "code",
   "execution_count": null,
   "metadata": {},
   "outputs": [],
   "source": [
    "data_crash_clip.plot()"
   ]
  },
  {
   "cell_type": "code",
   "execution_count": 19,
   "metadata": {},
   "outputs": [],
   "source": [
    "data_crash_clip = data_crash_clip.reset_index()"
   ]
  },
  {
   "cell_type": "code",
   "execution_count": null,
   "metadata": {},
   "outputs": [],
   "source": [
    "data_crash_clip"
   ]
  }
 ],
 "metadata": {
  "kernelspec": {
   "display_name": "dev",
   "language": "python",
   "name": "python3"
  },
  "language_info": {
   "codemirror_mode": {
    "name": "ipython",
    "version": 3
   },
   "file_extension": ".py",
   "mimetype": "text/x-python",
   "name": "python",
   "nbconvert_exporter": "python",
   "pygments_lexer": "ipython3",
   "version": "3.10.14"
  }
 },
 "nbformat": 4,
 "nbformat_minor": 2
}
