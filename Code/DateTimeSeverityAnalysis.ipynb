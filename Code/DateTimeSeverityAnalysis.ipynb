{
 "cells": [
  {
   "cell_type": "code",
   "execution_count": 18,
   "metadata": {},
   "outputs": [],
   "source": [
    "import pandas as pd\n",
    "import requests\n",
    "from datetime import datetime\n",
    "import matplotlib.pyplot as plt"
   ]
  },
  {
   "cell_type": "code",
   "execution_count": 19,
   "metadata": {},
   "outputs": [],
   "source": [
    "filePath = '../Resources/Montgomery_Crash_Data.csv'\n",
    "df = pd.read_csv(filePath)"
   ]
  },
  {
   "cell_type": "code",
   "execution_count": null,
   "metadata": {},
   "outputs": [],
   "source": [
    "df.columns\n",
    "df.info()"
   ]
  },
  {
   "cell_type": "code",
   "execution_count": null,
   "metadata": {},
   "outputs": [],
   "source": [
    "df_dateTimeSeverity = df[['Crash Date/Time', 'Injury Severity']]\n",
    "df_dateTimeSeverity.head()"
   ]
  },
  {
   "cell_type": "code",
   "execution_count": null,
   "metadata": {},
   "outputs": [],
   "source": [
    "df_dateTimeSeverity.set_index('Crash Date/Time', inplace=True)\n",
    "df_dateTimeSeverity.index = pd.to_datetime(df_dateTimeSeverity.index)\n",
    "display(df_dateTimeSeverity.head())\n",
    "display(df_dateTimeSeverity.tail())"
   ]
  },
  {
   "cell_type": "code",
   "execution_count": null,
   "metadata": {},
   "outputs": [],
   "source": [
    "df_dateTimeSeverity = df_dateTimeSeverity.map(lambda x: x.capitalize() if isinstance(x, str) else x)\n",
    "unique_severity = df_dateTimeSeverity['Injury Severity'].unique()\n",
    "print(f\"The unique_severity colums are as follows {df_dateTimeSeverity}\")"
   ]
  },
  {
   "cell_type": "code",
   "execution_count": null,
   "metadata": {},
   "outputs": [],
   "source": [
    "severity_count = df_dateTimeSeverity['Injury Severity'].value_counts()\n",
    "display(severity_count)"
   ]
  },
  {
   "cell_type": "code",
   "execution_count": null,
   "metadata": {},
   "outputs": [],
   "source": [
    "date_count = df_dateTimeSeverity.shape[0]\n",
    "print(f\"The total number of accidents is {date_count}\")"
   ]
  },
  {
   "cell_type": "code",
   "execution_count": null,
   "metadata": {},
   "outputs": [],
   "source": [
    "df_dateTimeSeverity = df_dateTimeSeverity.sort_values(by='Crash Date/Time')\n",
    "display(df_dateTimeSeverity.head())\n",
    "display(df_dateTimeSeverity.tail())"
   ]
  },
  {
   "cell_type": "code",
   "execution_count": null,
   "metadata": {},
   "outputs": [],
   "source": [
    "df_dateTimeSeverity.dtypes"
   ]
  },
  {
   "cell_type": "code",
   "execution_count": null,
   "metadata": {},
   "outputs": [],
   "source": [
    "df['Crash Date/Time'] = pd.to_datetime(df['Crash Date/Time'])\n",
    "df_dateTimeSeverity.dtypes"
   ]
  },
  {
   "cell_type": "code",
   "execution_count": null,
   "metadata": {},
   "outputs": [],
   "source": [
    "plt.figure(figsize=(8, 5))\n",
    "df_dateTimeSeverity['Injury Severity'].value_counts().plot(kind='bar')\n",
    "\n",
    "plt.title('Injury Severity Count')\n",
    "plt.xlabel('Injury Severity')\n",
    "plt.ylabel('Count')\n",
    "plt.grid(axis='y')\n",
    "\n",
    "# Show the plot\n",
    "plt.tight_layout()\n",
    "plt.show()\n"
   ]
  },
  {
   "cell_type": "code",
   "execution_count": null,
   "metadata": {},
   "outputs": [],
   "source": [
    "df_no_apparent_injury = df_dateTimeSeverity[df_dateTimeSeverity['Injury Severity'] == 'No apparent injury']\n",
    "df_suspected_minor_injury = df_dateTimeSeverity[df_dateTimeSeverity['Injury Severity'] == 'Suspected minor injury']\n",
    "df_suspected_serious_injury = df_dateTimeSeverity[df_dateTimeSeverity['Injury Severity'] == 'Suspected serious injury']\n",
    "df_fatal_injury = df_dateTimeSeverity[df_dateTimeSeverity['Injury Severity'] == 'Fatal injury']\n",
    "\n",
    "injury_severity_list = [\n",
    "    df_no_apparent_injury,\n",
    "    df_suspected_minor_injury,\n",
    "    df_suspected_serious_injury,\n",
    "    df_fatal_injury\n",
    "]\n",
    "\n",
    "for i in injury_severity_list:\n",
    "    display(i.head())"
   ]
  },
  {
   "cell_type": "code",
   "execution_count": null,
   "metadata": {},
   "outputs": [],
   "source": [
    "for i in injury_severity_list:\n",
    "    display(f\"Total number {i[\"Injury Severity\"].iloc[0]} {len(i)}\")"
   ]
  },
  {
   "cell_type": "code",
   "execution_count": null,
   "metadata": {},
   "outputs": [],
   "source": [
    "\n",
    "def makeNewDataFrame(df):\n",
    "    df = df.copy()\n",
    "    df['Time of Day'] = df.index.time\n",
    "    df['HourOfAccident'] = pd.to_datetime(df['Time of Day'], format='%H:%M:%S').dt.hour\n",
    "    return df\n",
    "\n",
    "df_fatal_injury = makeNewDataFrame(df_fatal_injury)\n",
    "df_suspected_serious_injury = makeNewDataFrame(df_suspected_serious_injury)\n",
    "df_suspected_minor_injury = makeNewDataFrame(df_suspected_minor_injury)\n",
    "df_no_apparent_injury = makeNewDataFrame(df_no_apparent_injury)\n",
    "\n",
    "df_injury_list = [df_no_apparent_injury,\n",
    "                df_suspected_minor_injury,\n",
    "                df_suspected_serious_injury,\n",
    "                df_fatal_injury]\n",
    "\n",
    "for i in df_injury_list: \n",
    "    display(i.head())"
   ]
  },
  {
   "cell_type": "code",
   "execution_count": 33,
   "metadata": {},
   "outputs": [],
   "source": [
    "def graph_injury_severity(df):\n",
    "    plt.figure(figsize=(8, 5))\n",
    "    plt.hist(df['HourOfAccident'], bins=24, color='blue', alpha=0.7)\n",
    "    time_labels = [f'{str(i).zfill(2)}:00' for i in range(24)]\n",
    "    plt.title('Time of Day')\n",
    "    plt.grid(axis='y')\n",
    "    plt.title(f'{i[\"Injury Severity\"].iloc[0]} Time of Day')\n",
    "    plt.xlabel('Time of Day')\n",
    "    plt.ylabel('Accident Count')\n",
    "    plt.xticks(range(24), time_labels, rotation=45)\n",
    "    plt.tight_layout()\n",
    "    plt.show()"
   ]
  },
  {
   "cell_type": "code",
   "execution_count": null,
   "metadata": {},
   "outputs": [],
   "source": [
    "for i in df_injury_list:\n",
    "    graph_injury_severity(i)"
   ]
  }
 ],
 "metadata": {
  "kernelspec": {
   "display_name": "base",
   "language": "python",
   "name": "python3"
  },
  "language_info": {
   "codemirror_mode": {
    "name": "ipython",
    "version": 3
   },
   "file_extension": ".py",
   "mimetype": "text/x-python",
   "name": "python",
   "nbconvert_exporter": "python",
   "pygments_lexer": "ipython3",
   "version": "3.12.4"
  }
 },
 "nbformat": 4,
 "nbformat_minor": 2
}
