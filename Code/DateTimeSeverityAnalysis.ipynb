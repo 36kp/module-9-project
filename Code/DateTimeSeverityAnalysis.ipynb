{
 "cells": [
  {
   "cell_type": "code",
   "execution_count": 19,
   "metadata": {},
   "outputs": [],
   "source": [
    "import pandas as pd\n",
    "import requests\n",
    "from datetime import datetime\n",
    "import matplotlib.pyplot as plt"
   ]
  },
  {
   "cell_type": "code",
   "execution_count": 20,
   "metadata": {},
   "outputs": [],
   "source": [
    "# Montgomery County, Maryland coordinates\n",
    "latitude = 39.1547\n",
    "longitude = -77.2405"
   ]
  },
  {
   "cell_type": "code",
   "execution_count": 21,
   "metadata": {},
   "outputs": [],
   "source": [
    "filePath = '../Resources/Montgomery_Crash_Data.csv'\n",
    "df = pd.read_csv(filePath)"
   ]
  },
  {
   "cell_type": "code",
   "execution_count": null,
   "metadata": {},
   "outputs": [],
   "source": [
    "df.columns"
   ]
  },
  {
   "cell_type": "code",
   "execution_count": null,
   "metadata": {},
   "outputs": [],
   "source": [
    "df_dateTimeSeverity = df[['Crash Date/Time', 'Injury Severity']]\n",
    "df_dateTimeSeverity.head()"
   ]
  },
  {
   "cell_type": "code",
   "execution_count": null,
   "metadata": {},
   "outputs": [],
   "source": [
    "df_dateTimeSeverity.set_index('Crash Date/Time', inplace=True)\n",
    "df_dateTimeSeverity.index = pd.to_datetime(df_dateTimeSeverity.index)\n",
    "display(df_dateTimeSeverity.head())\n",
    "display(df_dateTimeSeverity.tail())"
   ]
  },
  {
   "cell_type": "code",
   "execution_count": null,
   "metadata": {},
   "outputs": [],
   "source": [
    "unique_severity = df_dateTimeSeverity['Injury Severity'].unique()\n",
    "print(f\"The unique_severity colums are as follows {unique_severity}\")"
   ]
  },
  {
   "cell_type": "code",
   "execution_count": null,
   "metadata": {},
   "outputs": [],
   "source": [
    "severity_count = df_dateTimeSeverity['Injury Severity'].value_counts()\n",
    "display(severity_count)"
   ]
  },
  {
   "cell_type": "code",
   "execution_count": null,
   "metadata": {},
   "outputs": [],
   "source": [
    "date_count = df_dateTimeSeverity.shape[0]\n",
    "print(f\"The total number of accidents is {date_count}\")"
   ]
  },
  {
   "cell_type": "code",
   "execution_count": null,
   "metadata": {},
   "outputs": [],
   "source": [
    "df_dateTimeSeverity = df_dateTimeSeverity.sort_values(by='Crash Date/Time')\n",
    "display(df_dateTimeSeverity.head())\n",
    "display(df_dateTimeSeverity.tail())"
   ]
  },
  {
   "cell_type": "code",
   "execution_count": null,
   "metadata": {},
   "outputs": [],
   "source": [
    "df_dateTimeSeverity.dtypes"
   ]
  },
  {
   "cell_type": "code",
   "execution_count": null,
   "metadata": {},
   "outputs": [],
   "source": [
    "df['Crash Date/Time'] = pd.to_datetime(df['Crash Date/Time'])\n",
    "df_dateTimeSeverity.dtypes"
   ]
  },
  {
   "cell_type": "code",
   "execution_count": null,
   "metadata": {},
   "outputs": [],
   "source": [
    "plt.figure(figsize=(8, 5))\n",
    "df_dateTimeSeverity['Injury Severity'].value_counts().plot(kind='bar')\n",
    "\n",
    "plt.title('Injury Severity Count')\n",
    "plt.xlabel('Injury Severity')\n",
    "plt.ylabel('Count')\n",
    "plt.grid(axis='y')\n",
    "\n",
    "# Show the plot\n",
    "plt.tight_layout()\n",
    "plt.show()\n"
   ]
  },
  {
   "cell_type": "code",
   "execution_count": null,
   "metadata": {},
   "outputs": [],
   "source": [
    "df_fatal_injury = df_dateTimeSeverity[df_dateTimeSeverity['Injury Severity'] == 'FATAL INJURY']\n",
    "display(df_fatal_injury.head())\n",
    "display(df_fatal_injury.tail())"
   ]
  },
  {
   "cell_type": "code",
   "execution_count": null,
   "metadata": {},
   "outputs": [],
   "source": [
    "print(f\"The total number of fatal injuries is {len(df_fatal_injury)}\")"
   ]
  },
  {
   "cell_type": "code",
   "execution_count": null,
   "metadata": {},
   "outputs": [],
   "source": [
    "df_fatal_injury = df_fatal_injury.copy()\n",
    "df_fatal_injury['Time of Day'] = df_fatal_injury.index.time\n",
    "display(df_fatal_injury.head())"
   ]
  },
  {
   "cell_type": "code",
   "execution_count": null,
   "metadata": {},
   "outputs": [],
   "source": [
    "plt.figure(figsize=(8, 5))\n",
    "df_fatal_injury['Time of Day'].value_counts().plot(kind='hist', bins=24)\n",
    "\n",
    "plt.title('Injury Severity Count')\n",
    "plt.xlabel('Injury Severity')\n",
    "plt.ylabel('Count')\n",
    "plt.grid(axis='y')\n",
    "\n",
    "# Show the plot\n",
    "plt.tight_layout()\n",
    "plt.show()"
   ]
  }
 ],
 "metadata": {
  "kernelspec": {
   "display_name": "base",
   "language": "python",
   "name": "python3"
  },
  "language_info": {
   "codemirror_mode": {
    "name": "ipython",
    "version": 3
   },
   "file_extension": ".py",
   "mimetype": "text/x-python",
   "name": "python",
   "nbconvert_exporter": "python",
   "pygments_lexer": "ipython3",
   "version": "3.12.4"
  }
 },
 "nbformat": 4,
 "nbformat_minor": 2
}
