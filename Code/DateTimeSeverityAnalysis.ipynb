{
 "cells": [
  {
   "cell_type": "code",
   "execution_count": 22,
   "metadata": {},
   "outputs": [],
   "source": [
    "import pandas as pd\n",
    "import requests\n",
    "from datetime import datetime\n",
    "import matplotlib.pyplot as plt"
   ]
  },
  {
   "cell_type": "code",
   "execution_count": 24,
   "metadata": {},
   "outputs": [],
   "source": [
    "filePath = '../Resources/Montgomery_Crash_Data.csv'\n",
    "df = pd.read_csv(filePath)"
   ]
  },
  {
   "cell_type": "code",
   "execution_count": 25,
   "metadata": {},
   "outputs": [
    {
     "data": {
      "text/plain": [
       "Index(['Unnamed: 0', 'index', 'Report Number', 'Crash Date/Time', 'Weather',\n",
       "       'Surface Condition', 'Injury Severity', 'Vehicle ID', 'Vehicle Year',\n",
       "       'Vehicle Make', 'Vehicle Model', 'Latitude', 'Longitude', 'geometry'],\n",
       "      dtype='object')"
      ]
     },
     "execution_count": 25,
     "metadata": {},
     "output_type": "execute_result"
    }
   ],
   "source": [
    "df.columns"
   ]
  },
  {
   "cell_type": "code",
   "execution_count": 26,
   "metadata": {},
   "outputs": [
    {
     "data": {
      "text/html": [
       "<div>\n",
       "<style scoped>\n",
       "    .dataframe tbody tr th:only-of-type {\n",
       "        vertical-align: middle;\n",
       "    }\n",
       "\n",
       "    .dataframe tbody tr th {\n",
       "        vertical-align: top;\n",
       "    }\n",
       "\n",
       "    .dataframe thead th {\n",
       "        text-align: right;\n",
       "    }\n",
       "</style>\n",
       "<table border=\"1\" class=\"dataframe\">\n",
       "  <thead>\n",
       "    <tr style=\"text-align: right;\">\n",
       "      <th></th>\n",
       "      <th>Crash Date/Time</th>\n",
       "      <th>Injury Severity</th>\n",
       "    </tr>\n",
       "  </thead>\n",
       "  <tbody>\n",
       "    <tr>\n",
       "      <th>0</th>\n",
       "      <td>2021-04-04 12:00:00</td>\n",
       "      <td>NO APPARENT INJURY</td>\n",
       "    </tr>\n",
       "    <tr>\n",
       "      <th>1</th>\n",
       "      <td>2023-12-04 21:37:00</td>\n",
       "      <td>SUSPECTED MINOR INJURY</td>\n",
       "    </tr>\n",
       "    <tr>\n",
       "      <th>2</th>\n",
       "      <td>2024-07-17 21:27:00</td>\n",
       "      <td>SUSPECTED MINOR INJURY</td>\n",
       "    </tr>\n",
       "    <tr>\n",
       "      <th>3</th>\n",
       "      <td>2016-06-21 09:49:00</td>\n",
       "      <td>NO APPARENT INJURY</td>\n",
       "    </tr>\n",
       "    <tr>\n",
       "      <th>4</th>\n",
       "      <td>2016-12-05 06:55:00</td>\n",
       "      <td>SUSPECTED MINOR INJURY</td>\n",
       "    </tr>\n",
       "  </tbody>\n",
       "</table>\n",
       "</div>"
      ],
      "text/plain": [
       "       Crash Date/Time         Injury Severity\n",
       "0  2021-04-04 12:00:00      NO APPARENT INJURY\n",
       "1  2023-12-04 21:37:00  SUSPECTED MINOR INJURY\n",
       "2  2024-07-17 21:27:00  SUSPECTED MINOR INJURY\n",
       "3  2016-06-21 09:49:00      NO APPARENT INJURY\n",
       "4  2016-12-05 06:55:00  SUSPECTED MINOR INJURY"
      ]
     },
     "execution_count": 26,
     "metadata": {},
     "output_type": "execute_result"
    }
   ],
   "source": [
    "df_dateTimeSeverity = df[['Crash Date/Time', 'Injury Severity']]\n",
    "df_dateTimeSeverity.head()"
   ]
  },
  {
   "cell_type": "code",
   "execution_count": 27,
   "metadata": {},
   "outputs": [
    {
     "data": {
      "text/html": [
       "<div>\n",
       "<style scoped>\n",
       "    .dataframe tbody tr th:only-of-type {\n",
       "        vertical-align: middle;\n",
       "    }\n",
       "\n",
       "    .dataframe tbody tr th {\n",
       "        vertical-align: top;\n",
       "    }\n",
       "\n",
       "    .dataframe thead th {\n",
       "        text-align: right;\n",
       "    }\n",
       "</style>\n",
       "<table border=\"1\" class=\"dataframe\">\n",
       "  <thead>\n",
       "    <tr style=\"text-align: right;\">\n",
       "      <th></th>\n",
       "      <th>Injury Severity</th>\n",
       "    </tr>\n",
       "    <tr>\n",
       "      <th>Crash Date/Time</th>\n",
       "      <th></th>\n",
       "    </tr>\n",
       "  </thead>\n",
       "  <tbody>\n",
       "    <tr>\n",
       "      <th>2021-04-04 12:00:00</th>\n",
       "      <td>NO APPARENT INJURY</td>\n",
       "    </tr>\n",
       "    <tr>\n",
       "      <th>2023-12-04 21:37:00</th>\n",
       "      <td>SUSPECTED MINOR INJURY</td>\n",
       "    </tr>\n",
       "    <tr>\n",
       "      <th>2024-07-17 21:27:00</th>\n",
       "      <td>SUSPECTED MINOR INJURY</td>\n",
       "    </tr>\n",
       "    <tr>\n",
       "      <th>2016-06-21 09:49:00</th>\n",
       "      <td>NO APPARENT INJURY</td>\n",
       "    </tr>\n",
       "    <tr>\n",
       "      <th>2016-12-05 06:55:00</th>\n",
       "      <td>SUSPECTED MINOR INJURY</td>\n",
       "    </tr>\n",
       "  </tbody>\n",
       "</table>\n",
       "</div>"
      ],
      "text/plain": [
       "                            Injury Severity\n",
       "Crash Date/Time                            \n",
       "2021-04-04 12:00:00      NO APPARENT INJURY\n",
       "2023-12-04 21:37:00  SUSPECTED MINOR INJURY\n",
       "2024-07-17 21:27:00  SUSPECTED MINOR INJURY\n",
       "2016-06-21 09:49:00      NO APPARENT INJURY\n",
       "2016-12-05 06:55:00  SUSPECTED MINOR INJURY"
      ]
     },
     "metadata": {},
     "output_type": "display_data"
    },
    {
     "data": {
      "text/html": [
       "<div>\n",
       "<style scoped>\n",
       "    .dataframe tbody tr th:only-of-type {\n",
       "        vertical-align: middle;\n",
       "    }\n",
       "\n",
       "    .dataframe tbody tr th {\n",
       "        vertical-align: top;\n",
       "    }\n",
       "\n",
       "    .dataframe thead th {\n",
       "        text-align: right;\n",
       "    }\n",
       "</style>\n",
       "<table border=\"1\" class=\"dataframe\">\n",
       "  <thead>\n",
       "    <tr style=\"text-align: right;\">\n",
       "      <th></th>\n",
       "      <th>Injury Severity</th>\n",
       "    </tr>\n",
       "    <tr>\n",
       "      <th>Crash Date/Time</th>\n",
       "      <th></th>\n",
       "    </tr>\n",
       "  </thead>\n",
       "  <tbody>\n",
       "    <tr>\n",
       "      <th>2019-12-09 07:33:00</th>\n",
       "      <td>SUSPECTED MINOR INJURY</td>\n",
       "    </tr>\n",
       "    <tr>\n",
       "      <th>2023-09-19 08:43:00</th>\n",
       "      <td>NO APPARENT INJURY</td>\n",
       "    </tr>\n",
       "    <tr>\n",
       "      <th>2016-10-29 14:05:00</th>\n",
       "      <td>NO APPARENT INJURY</td>\n",
       "    </tr>\n",
       "    <tr>\n",
       "      <th>2021-09-24 07:43:00</th>\n",
       "      <td>NO APPARENT INJURY</td>\n",
       "    </tr>\n",
       "    <tr>\n",
       "      <th>2020-02-09 13:17:00</th>\n",
       "      <td>NO APPARENT INJURY</td>\n",
       "    </tr>\n",
       "  </tbody>\n",
       "</table>\n",
       "</div>"
      ],
      "text/plain": [
       "                            Injury Severity\n",
       "Crash Date/Time                            \n",
       "2019-12-09 07:33:00  SUSPECTED MINOR INJURY\n",
       "2023-09-19 08:43:00      NO APPARENT INJURY\n",
       "2016-10-29 14:05:00      NO APPARENT INJURY\n",
       "2021-09-24 07:43:00      NO APPARENT INJURY\n",
       "2020-02-09 13:17:00      NO APPARENT INJURY"
      ]
     },
     "metadata": {},
     "output_type": "display_data"
    }
   ],
   "source": [
    "df_dateTimeSeverity.set_index('Crash Date/Time', inplace=True)\n",
    "df_dateTimeSeverity.index = pd.to_datetime(df_dateTimeSeverity.index)\n",
    "display(df_dateTimeSeverity.head())\n",
    "display(df_dateTimeSeverity.tail())"
   ]
  },
  {
   "cell_type": "code",
   "execution_count": 28,
   "metadata": {},
   "outputs": [
    {
     "name": "stdout",
     "output_type": "stream",
     "text": [
      "The unique_severity colums are as follows ['NO APPARENT INJURY' 'SUSPECTED MINOR INJURY' 'FATAL INJURY'\n",
      " 'SUSPECTED SERIOUS INJURY']\n"
     ]
    }
   ],
   "source": [
    "unique_severity = df_dateTimeSeverity['Injury Severity'].unique()\n",
    "print(f\"The unique_severity colums are as follows {unique_severity}\")"
   ]
  },
  {
   "cell_type": "code",
   "execution_count": 29,
   "metadata": {},
   "outputs": [
    {
     "data": {
      "text/plain": [
       "Injury Severity\n",
       "NO APPARENT INJURY          86159\n",
       "SUSPECTED MINOR INJURY      16779\n",
       "SUSPECTED SERIOUS INJURY      936\n",
       "FATAL INJURY                  128\n",
       "Name: count, dtype: int64"
      ]
     },
     "metadata": {},
     "output_type": "display_data"
    }
   ],
   "source": [
    "severity_count = df_dateTimeSeverity['Injury Severity'].value_counts()\n",
    "display(severity_count)"
   ]
  },
  {
   "cell_type": "code",
   "execution_count": 30,
   "metadata": {},
   "outputs": [
    {
     "name": "stdout",
     "output_type": "stream",
     "text": [
      "The total number of accidents is 104002\n"
     ]
    }
   ],
   "source": [
    "date_count = df_dateTimeSeverity.shape[0]\n",
    "print(f\"The total number of accidents is {date_count}\")"
   ]
  },
  {
   "cell_type": "code",
   "execution_count": 31,
   "metadata": {},
   "outputs": [
    {
     "data": {
      "text/html": [
       "<div>\n",
       "<style scoped>\n",
       "    .dataframe tbody tr th:only-of-type {\n",
       "        vertical-align: middle;\n",
       "    }\n",
       "\n",
       "    .dataframe tbody tr th {\n",
       "        vertical-align: top;\n",
       "    }\n",
       "\n",
       "    .dataframe thead th {\n",
       "        text-align: right;\n",
       "    }\n",
       "</style>\n",
       "<table border=\"1\" class=\"dataframe\">\n",
       "  <thead>\n",
       "    <tr style=\"text-align: right;\">\n",
       "      <th></th>\n",
       "      <th>Injury Severity</th>\n",
       "    </tr>\n",
       "    <tr>\n",
       "      <th>Crash Date/Time</th>\n",
       "      <th></th>\n",
       "    </tr>\n",
       "  </thead>\n",
       "  <tbody>\n",
       "    <tr>\n",
       "      <th>2015-01-01 00:30:00</th>\n",
       "      <td>NO APPARENT INJURY</td>\n",
       "    </tr>\n",
       "    <tr>\n",
       "      <th>2015-01-01 01:10:00</th>\n",
       "      <td>NO APPARENT INJURY</td>\n",
       "    </tr>\n",
       "    <tr>\n",
       "      <th>2015-01-01 01:14:00</th>\n",
       "      <td>NO APPARENT INJURY</td>\n",
       "    </tr>\n",
       "    <tr>\n",
       "      <th>2015-01-01 01:26:00</th>\n",
       "      <td>NO APPARENT INJURY</td>\n",
       "    </tr>\n",
       "    <tr>\n",
       "      <th>2015-01-01 02:00:00</th>\n",
       "      <td>NO APPARENT INJURY</td>\n",
       "    </tr>\n",
       "  </tbody>\n",
       "</table>\n",
       "</div>"
      ],
      "text/plain": [
       "                        Injury Severity\n",
       "Crash Date/Time                        \n",
       "2015-01-01 00:30:00  NO APPARENT INJURY\n",
       "2015-01-01 01:10:00  NO APPARENT INJURY\n",
       "2015-01-01 01:14:00  NO APPARENT INJURY\n",
       "2015-01-01 01:26:00  NO APPARENT INJURY\n",
       "2015-01-01 02:00:00  NO APPARENT INJURY"
      ]
     },
     "metadata": {},
     "output_type": "display_data"
    },
    {
     "data": {
      "text/html": [
       "<div>\n",
       "<style scoped>\n",
       "    .dataframe tbody tr th:only-of-type {\n",
       "        vertical-align: middle;\n",
       "    }\n",
       "\n",
       "    .dataframe tbody tr th {\n",
       "        vertical-align: top;\n",
       "    }\n",
       "\n",
       "    .dataframe thead th {\n",
       "        text-align: right;\n",
       "    }\n",
       "</style>\n",
       "<table border=\"1\" class=\"dataframe\">\n",
       "  <thead>\n",
       "    <tr style=\"text-align: right;\">\n",
       "      <th></th>\n",
       "      <th>Injury Severity</th>\n",
       "    </tr>\n",
       "    <tr>\n",
       "      <th>Crash Date/Time</th>\n",
       "      <th></th>\n",
       "    </tr>\n",
       "  </thead>\n",
       "  <tbody>\n",
       "    <tr>\n",
       "      <th>2024-09-25 16:33:00</th>\n",
       "      <td>NO APPARENT INJURY</td>\n",
       "    </tr>\n",
       "    <tr>\n",
       "      <th>2024-09-25 16:45:00</th>\n",
       "      <td>NO APPARENT INJURY</td>\n",
       "    </tr>\n",
       "    <tr>\n",
       "      <th>2024-09-25 17:32:00</th>\n",
       "      <td>NO APPARENT INJURY</td>\n",
       "    </tr>\n",
       "    <tr>\n",
       "      <th>2024-09-25 17:53:00</th>\n",
       "      <td>NO APPARENT INJURY</td>\n",
       "    </tr>\n",
       "    <tr>\n",
       "      <th>2024-09-25 18:16:00</th>\n",
       "      <td>NO APPARENT INJURY</td>\n",
       "    </tr>\n",
       "  </tbody>\n",
       "</table>\n",
       "</div>"
      ],
      "text/plain": [
       "                        Injury Severity\n",
       "Crash Date/Time                        \n",
       "2024-09-25 16:33:00  NO APPARENT INJURY\n",
       "2024-09-25 16:45:00  NO APPARENT INJURY\n",
       "2024-09-25 17:32:00  NO APPARENT INJURY\n",
       "2024-09-25 17:53:00  NO APPARENT INJURY\n",
       "2024-09-25 18:16:00  NO APPARENT INJURY"
      ]
     },
     "metadata": {},
     "output_type": "display_data"
    }
   ],
   "source": [
    "df_dateTimeSeverity = df_dateTimeSeverity.sort_values(by='Crash Date/Time')\n",
    "display(df_dateTimeSeverity.head())\n",
    "display(df_dateTimeSeverity.tail())"
   ]
  },
  {
   "cell_type": "code",
   "execution_count": 32,
   "metadata": {},
   "outputs": [
    {
     "data": {
      "text/plain": [
       "Injury Severity    object\n",
       "dtype: object"
      ]
     },
     "execution_count": 32,
     "metadata": {},
     "output_type": "execute_result"
    }
   ],
   "source": [
    "df_dateTimeSeverity.dtypes"
   ]
  },
  {
   "cell_type": "code",
   "execution_count": 33,
   "metadata": {},
   "outputs": [
    {
     "data": {
      "text/plain": [
       "Injury Severity    object\n",
       "dtype: object"
      ]
     },
     "execution_count": 33,
     "metadata": {},
     "output_type": "execute_result"
    }
   ],
   "source": [
    "df['Crash Date/Time'] = pd.to_datetime(df['Crash Date/Time'])\n",
    "df_dateTimeSeverity.dtypes"
   ]
  },
  {
   "cell_type": "code",
   "execution_count": 34,
   "metadata": {},
   "outputs": [
    {
     "data": {
      "image/png": "[encoded data removed]",
      "text/plain": [
       "<Figure size 800x500 with 1 Axes>"
      ]
     },
     "metadata": {},
     "output_type": "display_data"
    }
   ],
   "source": [
    "plt.figure(figsize=(8, 5))\n",
    "df_dateTimeSeverity['Injury Severity'].value_counts().plot(kind='bar')\n",
    "\n",
    "plt.title('Injury Severity Count')\n",
    "plt.xlabel('Injury Severity')\n",
    "plt.ylabel('Count')\n",
    "plt.grid(axis='y')\n",
    "\n",
    "# Show the plot\n",
    "plt.tight_layout()\n",
    "plt.show()\n"
   ]
  },
  {
   "cell_type": "code",
   "execution_count": 61,
   "metadata": {},
   "outputs": [
    {
     "data": {
      "text/html": [
       "<div>\n",
       "<style scoped>\n",
       "    .dataframe tbody tr th:only-of-type {\n",
       "        vertical-align: middle;\n",
       "    }\n",
       "\n",
       "    .dataframe tbody tr th {\n",
       "        vertical-align: top;\n",
       "    }\n",
       "\n",
       "    .dataframe thead th {\n",
       "        text-align: right;\n",
       "    }\n",
       "</style>\n",
       "<table border=\"1\" class=\"dataframe\">\n",
       "  <thead>\n",
       "    <tr style=\"text-align: right;\">\n",
       "      <th></th>\n",
       "      <th>Injury Severity</th>\n",
       "    </tr>\n",
       "    <tr>\n",
       "      <th>Crash Date/Time</th>\n",
       "      <th></th>\n",
       "    </tr>\n",
       "  </thead>\n",
       "  <tbody>\n",
       "    <tr>\n",
       "      <th>2015-01-01 00:30:00</th>\n",
       "      <td>NO APPARENT INJURY</td>\n",
       "    </tr>\n",
       "    <tr>\n",
       "      <th>2015-01-01 01:10:00</th>\n",
       "      <td>NO APPARENT INJURY</td>\n",
       "    </tr>\n",
       "    <tr>\n",
       "      <th>2015-01-01 01:14:00</th>\n",
       "      <td>NO APPARENT INJURY</td>\n",
       "    </tr>\n",
       "    <tr>\n",
       "      <th>2015-01-01 01:26:00</th>\n",
       "      <td>NO APPARENT INJURY</td>\n",
       "    </tr>\n",
       "    <tr>\n",
       "      <th>2015-01-01 02:00:00</th>\n",
       "      <td>NO APPARENT INJURY</td>\n",
       "    </tr>\n",
       "  </tbody>\n",
       "</table>\n",
       "</div>"
      ],
      "text/plain": [
       "                        Injury Severity\n",
       "Crash Date/Time                        \n",
       "2015-01-01 00:30:00  NO APPARENT INJURY\n",
       "2015-01-01 01:10:00  NO APPARENT INJURY\n",
       "2015-01-01 01:14:00  NO APPARENT INJURY\n",
       "2015-01-01 01:26:00  NO APPARENT INJURY\n",
       "2015-01-01 02:00:00  NO APPARENT INJURY"
      ]
     },
     "metadata": {},
     "output_type": "display_data"
    },
    {
     "data": {
      "text/html": [
       "<div>\n",
       "<style scoped>\n",
       "    .dataframe tbody tr th:only-of-type {\n",
       "        vertical-align: middle;\n",
       "    }\n",
       "\n",
       "    .dataframe tbody tr th {\n",
       "        vertical-align: top;\n",
       "    }\n",
       "\n",
       "    .dataframe thead th {\n",
       "        text-align: right;\n",
       "    }\n",
       "</style>\n",
       "<table border=\"1\" class=\"dataframe\">\n",
       "  <thead>\n",
       "    <tr style=\"text-align: right;\">\n",
       "      <th></th>\n",
       "      <th>Injury Severity</th>\n",
       "    </tr>\n",
       "    <tr>\n",
       "      <th>Crash Date/Time</th>\n",
       "      <th></th>\n",
       "    </tr>\n",
       "  </thead>\n",
       "  <tbody>\n",
       "    <tr>\n",
       "      <th>2015-01-01 02:33:00</th>\n",
       "      <td>SUSPECTED MINOR INJURY</td>\n",
       "    </tr>\n",
       "    <tr>\n",
       "      <th>2015-01-01 15:18:00</th>\n",
       "      <td>SUSPECTED MINOR INJURY</td>\n",
       "    </tr>\n",
       "    <tr>\n",
       "      <th>2015-01-01 20:54:00</th>\n",
       "      <td>SUSPECTED MINOR INJURY</td>\n",
       "    </tr>\n",
       "    <tr>\n",
       "      <th>2015-01-02 12:06:00</th>\n",
       "      <td>SUSPECTED MINOR INJURY</td>\n",
       "    </tr>\n",
       "    <tr>\n",
       "      <th>2015-01-02 12:24:00</th>\n",
       "      <td>SUSPECTED MINOR INJURY</td>\n",
       "    </tr>\n",
       "  </tbody>\n",
       "</table>\n",
       "</div>"
      ],
      "text/plain": [
       "                            Injury Severity\n",
       "Crash Date/Time                            \n",
       "2015-01-01 02:33:00  SUSPECTED MINOR INJURY\n",
       "2015-01-01 15:18:00  SUSPECTED MINOR INJURY\n",
       "2015-01-01 20:54:00  SUSPECTED MINOR INJURY\n",
       "2015-01-02 12:06:00  SUSPECTED MINOR INJURY\n",
       "2015-01-02 12:24:00  SUSPECTED MINOR INJURY"
      ]
     },
     "metadata": {},
     "output_type": "display_data"
    },
    {
     "data": {
      "text/html": [
       "<div>\n",
       "<style scoped>\n",
       "    .dataframe tbody tr th:only-of-type {\n",
       "        vertical-align: middle;\n",
       "    }\n",
       "\n",
       "    .dataframe tbody tr th {\n",
       "        vertical-align: top;\n",
       "    }\n",
       "\n",
       "    .dataframe thead th {\n",
       "        text-align: right;\n",
       "    }\n",
       "</style>\n",
       "<table border=\"1\" class=\"dataframe\">\n",
       "  <thead>\n",
       "    <tr style=\"text-align: right;\">\n",
       "      <th></th>\n",
       "      <th>Injury Severity</th>\n",
       "    </tr>\n",
       "    <tr>\n",
       "      <th>Crash Date/Time</th>\n",
       "      <th></th>\n",
       "    </tr>\n",
       "  </thead>\n",
       "  <tbody>\n",
       "    <tr>\n",
       "      <th>2015-01-03 08:38:00</th>\n",
       "      <td>SUSPECTED SERIOUS INJURY</td>\n",
       "    </tr>\n",
       "    <tr>\n",
       "      <th>2015-01-05 11:33:00</th>\n",
       "      <td>SUSPECTED SERIOUS INJURY</td>\n",
       "    </tr>\n",
       "    <tr>\n",
       "      <th>2015-01-10 17:26:00</th>\n",
       "      <td>SUSPECTED SERIOUS INJURY</td>\n",
       "    </tr>\n",
       "    <tr>\n",
       "      <th>2015-01-15 11:31:00</th>\n",
       "      <td>SUSPECTED SERIOUS INJURY</td>\n",
       "    </tr>\n",
       "    <tr>\n",
       "      <th>2015-01-20 19:07:00</th>\n",
       "      <td>SUSPECTED SERIOUS INJURY</td>\n",
       "    </tr>\n",
       "  </tbody>\n",
       "</table>\n",
       "</div>"
      ],
      "text/plain": [
       "                              Injury Severity\n",
       "Crash Date/Time                              \n",
       "2015-01-03 08:38:00  SUSPECTED SERIOUS INJURY\n",
       "2015-01-05 11:33:00  SUSPECTED SERIOUS INJURY\n",
       "2015-01-10 17:26:00  SUSPECTED SERIOUS INJURY\n",
       "2015-01-15 11:31:00  SUSPECTED SERIOUS INJURY\n",
       "2015-01-20 19:07:00  SUSPECTED SERIOUS INJURY"
      ]
     },
     "metadata": {},
     "output_type": "display_data"
    },
    {
     "data": {
      "text/html": [
       "<div>\n",
       "<style scoped>\n",
       "    .dataframe tbody tr th:only-of-type {\n",
       "        vertical-align: middle;\n",
       "    }\n",
       "\n",
       "    .dataframe tbody tr th {\n",
       "        vertical-align: top;\n",
       "    }\n",
       "\n",
       "    .dataframe thead th {\n",
       "        text-align: right;\n",
       "    }\n",
       "</style>\n",
       "<table border=\"1\" class=\"dataframe\">\n",
       "  <thead>\n",
       "    <tr style=\"text-align: right;\">\n",
       "      <th></th>\n",
       "      <th>Injury Severity</th>\n",
       "    </tr>\n",
       "    <tr>\n",
       "      <th>Crash Date/Time</th>\n",
       "      <th></th>\n",
       "    </tr>\n",
       "  </thead>\n",
       "  <tbody>\n",
       "    <tr>\n",
       "      <th>2015-04-06 16:57:00</th>\n",
       "      <td>FATAL INJURY</td>\n",
       "    </tr>\n",
       "    <tr>\n",
       "      <th>2015-05-31 15:05:00</th>\n",
       "      <td>FATAL INJURY</td>\n",
       "    </tr>\n",
       "    <tr>\n",
       "      <th>2015-06-23 20:26:00</th>\n",
       "      <td>FATAL INJURY</td>\n",
       "    </tr>\n",
       "    <tr>\n",
       "      <th>2015-07-05 05:07:00</th>\n",
       "      <td>FATAL INJURY</td>\n",
       "    </tr>\n",
       "    <tr>\n",
       "      <th>2015-07-28 21:24:00</th>\n",
       "      <td>FATAL INJURY</td>\n",
       "    </tr>\n",
       "  </tbody>\n",
       "</table>\n",
       "</div>"
      ],
      "text/plain": [
       "                    Injury Severity\n",
       "Crash Date/Time                    \n",
       "2015-04-06 16:57:00    FATAL INJURY\n",
       "2015-05-31 15:05:00    FATAL INJURY\n",
       "2015-06-23 20:26:00    FATAL INJURY\n",
       "2015-07-05 05:07:00    FATAL INJURY\n",
       "2015-07-28 21:24:00    FATAL INJURY"
      ]
     },
     "metadata": {},
     "output_type": "display_data"
    }
   ],
   "source": [
    "df_no_apparent_injury = df_dateTimeSeverity[df_dateTimeSeverity['Injury Severity'] == 'NO APPARENT INJURY']\n",
    "df_suspected_minor_injury = df_dateTimeSeverity[df_dateTimeSeverity['Injury Severity'] == 'SUSPECTED MINOR INJURY']\n",
    "df_suspected_serious_injury = df_dateTimeSeverity[df_dateTimeSeverity['Injury Severity'] == 'SUSPECTED SERIOUS INJURY']\n",
    "df_fatal_injury = df_dateTimeSeverity[df_dateTimeSeverity['Injury Severity'] == 'FATAL INJURY']\n",
    "\n",
    "display(df_no_apparent_injury.head())\n",
    "display(df_suspected_minor_injury.head())\n",
    "display(df_suspected_serious_injury.head())\n",
    "display(df_fatal_injury.head())"
   ]
  },
  {
   "cell_type": "code",
   "execution_count": 36,
   "metadata": {},
   "outputs": [
    {
     "name": "stdout",
     "output_type": "stream",
     "text": [
      "The total number of fatal injuries is 128\n"
     ]
    }
   ],
   "source": [
    "print(f\"The total number of fatal injuries is {len(df_fatal_injury)}\")"
   ]
  },
  {
   "cell_type": "code",
   "execution_count": 51,
   "metadata": {},
   "outputs": [
    {
     "data": {
      "text/plain": [
       "HourOfAccident\n",
       "5     9\n",
       "15    8\n",
       "20    8\n",
       "1     8\n",
       "12    8\n",
       "21    7\n",
       "14    7\n",
       "18    7\n",
       "0     7\n",
       "16    6\n",
       "23    6\n",
       "17    6\n",
       "19    6\n",
       "11    4\n",
       "2     4\n",
       "13    4\n",
       "7     4\n",
       "4     4\n",
       "8     3\n",
       "10    3\n",
       "22    3\n",
       "3     2\n",
       "9     2\n",
       "6     2\n",
       "Name: count, dtype: int64"
      ]
     },
     "metadata": {},
     "output_type": "display_data"
    },
    {
     "data": {
      "text/plain": [
       "Injury Severity    object\n",
       "Time of Day        object\n",
       "HourOfAccident      int32\n",
       "dtype: object"
      ]
     },
     "metadata": {},
     "output_type": "display_data"
    }
   ],
   "source": [
    "df_fatal_injury = df_fatal_injury.copy()\n",
    "df_fatal_injury['Time of Day'] = df_fatal_injury.index.time\n",
    "df_fatal_injury['HourOfAccident'] = pd.to_datetime(df_fatal_injury['Time of Day'], format='%H:%M:%S').dt.hour\n",
    "display(df_fatal_injury['HourOfAccident'].value_counts())\n",
    "display(df_fatal_injury.dtypes)"
   ]
  },
  {
   "cell_type": "code",
   "execution_count": 54,
   "metadata": {},
   "outputs": [
    {
     "data": {
      "image/png": "[encoded data removed]",
      "text/plain": [
       "<Figure size 800x500 with 1 Axes>"
      ]
     },
     "metadata": {},
     "output_type": "display_data"
    }
   ],
   "source": [
    "plt.figure(figsize=(8, 5))\n",
    "plt.hist(df_fatal_injury['HourOfAccident'], bins=24, color='blue', alpha=0.7)\n",
    "time_labels = [f'{str(i).zfill(2)}:00' for i in range(24)]\n",
    "plt.title('Time of Day')\n",
    "plt.grid(axis='y')\n",
    "plt.title('Fatal Injury Time of Day')\n",
    "plt.xlabel('Time of Day')\n",
    "plt.ylabel('Accident Count')\n",
    "plt.xticks(range(24), time_labels, rotation=45)\n",
    "plt.tight_layout()\n",
    "plt.show()"
   ]
  },
  {
   "cell_type": "code",
   "execution_count": 60,
   "metadata": {},
   "outputs": [],
   "source": [
    "def graph_injury_severity(df):\n",
    "    plt.figure(figsize=(8, 5))\n",
    "    plt.hist(df['HourOfAccident'], bins=24, color='blue', alpha=0.7)\n",
    "    time_labels = [f'{str(i).zfill(2)}:00' for i in range(24)]\n",
    "    plt.title('Time of Day')\n",
    "    plt.grid(axis='y')\n",
    "    plt.title('Fatal Injury Time of Day')\n",
    "    plt.xlabel('Time of Day')\n",
    "    plt.ylabel('Accident Count')\n",
    "    plt.xticks(range(24), time_labels, rotation=45)\n",
    "    plt.tight_layout()\n",
    "    plt.show()\n",
    "    "
   ]
  },
  {
   "cell_type": "code",
   "execution_count": 59,
   "metadata": {},
   "outputs": [
    {
     "data": {
      "image/png": "[encoded data removed]",
      "text/plain": [
       "<Figure size 800x500 with 1 Axes>"
      ]
     },
     "metadata": {},
     "output_type": "display_data"
    }
   ],
   "source": [
    "graph_injury_severity(df_fatal_injury)"
   ]
  }
 ],
 "metadata": {
  "kernelspec": {
   "display_name": "base",
   "language": "python",
   "name": "python3"
  },
  "language_info": {
   "codemirror_mode": {
    "name": "ipython",
    "version": 3
   },
   "file_extension": ".py",
   "mimetype": "text/x-python",
   "name": "python",
   "nbconvert_exporter": "python",
   "pygments_lexer": "ipython3",
   "version": "3.12.4"
  }
 },
 "nbformat": 4,
 "nbformat_minor": 2
}
