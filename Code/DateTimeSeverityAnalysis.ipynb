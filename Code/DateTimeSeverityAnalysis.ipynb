{
 "cells": [
  {
   "cell_type": "code",
   "execution_count": 1,
   "metadata": {},
   "outputs": [],
   "source": [
    "import pandas as pd\n",
    "import requests\n",
    "from datetime import datetime\n",
    "import matplotlib.pyplot as plt"
   ]
  },
  {
   "cell_type": "code",
   "execution_count": 2,
   "metadata": {},
   "outputs": [],
   "source": [
    "# create a dataframe from the csv file\n",
    "filePath = '../Resources/Montgomery_Crash_Data.csv'\n",
    "df = pd.read_csv(filePath)"
   ]
  },
  {
   "cell_type": "code",
   "execution_count": null,
   "metadata": {},
   "outputs": [],
   "source": [
    "# print the info of the dataframe\n",
    "df.columns\n",
    "df.info()"
   ]
  },
  {
   "cell_type": "code",
   "execution_count": null,
   "metadata": {},
   "outputs": [],
   "source": [
    "# create a new dataframe with only the columns 'Crash Date/Time' and 'Injury Severity'\n",
    "df_dateTimeSeverity = df[['Crash Date/Time', 'Injury Severity']]\n",
    "df_dateTimeSeverity.head()\n",
    "df_dateTimeSeverity.tail()"
   ]
  },
  {
   "cell_type": "code",
   "execution_count": null,
   "metadata": {},
   "outputs": [],
   "source": [
    "# set the index of the new dataframe to 'Crash Date/Time' and convert the index to datetime\n",
    "df_dateTimeSeverity.set_index('Crash Date/Time', inplace=True)\n",
    "df_dateTimeSeverity.index = pd.to_datetime(df_dateTimeSeverity.index)\n",
    "display(df_dateTimeSeverity.head())\n",
    "display(df_dateTimeSeverity.tail())"
   ]
  },
  {
   "cell_type": "code",
   "execution_count": null,
   "metadata": {},
   "outputs": [],
   "source": [
    "# Display the count of each 'Injury Severity' value\n",
    "count = df_dateTimeSeverity[\"Injury Severity\"].value_counts()\n",
    "display(count)"
   ]
  },
  {
   "cell_type": "code",
   "execution_count": null,
   "metadata": {},
   "outputs": [],
   "source": [
    "# Change the 'Injury Severity' column to title case\n",
    "df_dateTimeSeverity = df_dateTimeSeverity.map(lambda x: x.capitalize() if isinstance(x, str) else x)\n",
    "unique_severity = df_dateTimeSeverity['Injury Severity'].unique()\n",
    "print(f\"The unique_severity colums are as follows {df_dateTimeSeverity}\")"
   ]
  },
  {
   "cell_type": "code",
   "execution_count": null,
   "metadata": {},
   "outputs": [],
   "source": [
    "# Display the shape of df_dateTimeSeverity\n",
    "count = df_dateTimeSeverity.shape[0]\n",
    "print(f\"The total number of accidents is {count}\")"
   ]
  },
  {
   "cell_type": "code",
   "execution_count": null,
   "metadata": {},
   "outputs": [],
   "source": [
    "# Sort be date and time\n",
    "df_dateTimeSeverity = df_dateTimeSeverity.sort_values(by='Crash Date/Time')\n",
    "display(df_dateTimeSeverity.head())\n",
    "display(df_dateTimeSeverity.tail())"
   ]
  },
  {
   "cell_type": "code",
   "execution_count": null,
   "metadata": {},
   "outputs": [],
   "source": [
    "df_dateTimeSeverity['Injury Severity'].value_counts().plot(kind='bar',\n",
    "                                                        color='blue',\n",
    "                                                        alpha=0.7, \n",
    "                                                        rot=45,\n",
    "                                                        title='Injury Severity Count',\n",
    "                                                        xlabel='Injury Severity',\n",
    "                                                        ylabel='Number of accidents')\n",
    "plt.tight_layout()\n",
    "plt.show()\n"
   ]
  },
  {
   "cell_type": "code",
   "execution_count": null,
   "metadata": {},
   "outputs": [],
   "source": [
    "# create a dataframe for each injury severity\n",
    "df_no_apparent_injury = df_dateTimeSeverity[df_dateTimeSeverity['Injury Severity'] == 'No apparent injury']\n",
    "df_suspected_minor_injury = df_dateTimeSeverity[df_dateTimeSeverity['Injury Severity'] == 'Suspected minor injury']\n",
    "df_suspected_serious_injury = df_dateTimeSeverity[df_dateTimeSeverity['Injury Severity'] == 'Suspected serious injury']\n",
    "df_fatal_injury = df_dateTimeSeverity[df_dateTimeSeverity['Injury Severity'] == 'Fatal injury']\n",
    "\n",
    "# make a list of the severity dataframes\n",
    "injury_severity_list = [\n",
    "    df_no_apparent_injury,\n",
    "    df_suspected_minor_injury,\n",
    "    df_suspected_serious_injury,\n",
    "    df_fatal_injury\n",
    "]\n",
    "\n",
    "# display the first 5 rows of each severity dataframe\n",
    "for i in injury_severity_list:\n",
    "    display(i.head())"
   ]
  },
  {
   "cell_type": "code",
   "execution_count": null,
   "metadata": {},
   "outputs": [],
   "source": [
    "# Display the total number of accidents for each severity\n",
    "for i in injury_severity_list:\n",
    "    display(f\"Total number {i[\"Injury Severity\"].iloc[0]} {len(i)}\")"
   ]
  },
  {
   "cell_type": "code",
   "execution_count": null,
   "metadata": {},
   "outputs": [],
   "source": [
    "# make a new dataframe with the time of day and hour of accident\n",
    "def makeNewDataFrame(df):\n",
    "    df = df.copy()\n",
    "    df['Time of Day'] = df.index.time\n",
    "    df['HourOfAccident'] = pd.to_datetime(df['Time of Day'], format='%H:%M:%S').dt.hour\n",
    "    return df\n",
    "\n",
    "df_fatal_injury = makeNewDataFrame(df_fatal_injury)\n",
    "df_suspected_serious_injury = makeNewDataFrame(df_suspected_serious_injury)\n",
    "df_suspected_minor_injury = makeNewDataFrame(df_suspected_minor_injury)\n",
    "df_no_apparent_injury = makeNewDataFrame(df_no_apparent_injury)\n",
    "\n",
    "# make a list of the injury dataframes\n",
    "df_injury_list = [df_no_apparent_injury,\n",
    "                df_suspected_minor_injury,\n",
    "                df_suspected_serious_injury,\n",
    "                df_fatal_injury]\n",
    "\n",
    "# display the first 5 rows of each injury dataframe\n",
    "for i in df_injury_list: \n",
    "    display(i.head())"
   ]
  },
  {
   "cell_type": "code",
   "execution_count": 14,
   "metadata": {},
   "outputs": [],
   "source": [
    "# Function to graph the time of day for each injury severity\n",
    "\n",
    "def graph_injury_severity(df):\n",
    "    plt.figure(figsize=(8, 5))\n",
    "    plt.hist(df['HourOfAccident'], bins=24, color='blue', alpha=0.7, rwidth=0.80)\n",
    "    time_labels = [f'{str(i).zfill(2)}:00' for i in range(24)]\n",
    "    plt.title('Time of Day')\n",
    "    plt.grid(axis='y')\n",
    "    plt.title(f'{i[\"Injury Severity\"].iloc[0]} Time of Day')\n",
    "    plt.xlabel('Time of Day')\n",
    "    plt.ylabel('Accident Count')\n",
    "    plt.xticks(range(24), time_labels, rotation=45)\n",
    "    plt.tight_layout()\n",
    "    plt.show()"
   ]
  },
  {
   "cell_type": "code",
   "execution_count": null,
   "metadata": {},
   "outputs": [],
   "source": [
    "# Graph the time of day for each injury severity\n",
    "for i in df_injury_list:\n",
    "    graph_injury_severity(i)  \n",
    "\n"
   ]
  },
  {
   "cell_type": "code",
   "execution_count": null,
   "metadata": {},
   "outputs": [],
   "source": [
    "# Accients by month\n",
    "df_dateTimeSeverity['Month'] = df_dateTimeSeverity.index.month\n",
    "plt.figure(figsize=(8, 5))\n",
    "plt.hist(df_dateTimeSeverity['Month'], bins=12, color='blue', alpha=0.7, rwidth=0.8)\n",
    "plt.title('Accidents by Month')\n",
    "plt.xlabel('Month')\n",
    "plt.ylabel('Accident Count')\n",
    "plt.xticks(range(1, 13))\n",
    "plt.tight_layout()\n",
    "plt.show()"
   ]
  },
  {
   "cell_type": "code",
   "execution_count": null,
   "metadata": {},
   "outputs": [],
   "source": [
    "# Plot accidents by year    \n",
    "df_dateTimeSeverity['Year'] = df_dateTimeSeverity.index.year\n",
    "plt.figure(figsize=(8, 5))\n",
    "plt.hist(df_dateTimeSeverity['Year'], bins=10, color='blue', alpha=0.7, rwidth=0.8)\n",
    "plt.title('Accidents by Year')\n",
    "plt.xlabel('Year')\n",
    "plt.ylabel('Accident Count')\n",
    "plt.xticks(range(2015, 2024), rotation=45)\n",
    "plt.tight_layout()\n",
    "plt.show()"
   ]
  }
 ],
 "metadata": {
  "kernelspec": {
   "display_name": "base",
   "language": "python",
   "name": "python3"
  },
  "language_info": {
   "codemirror_mode": {
    "name": "ipython",
    "version": 3
   },
   "file_extension": ".py",
   "mimetype": "text/x-python",
   "name": "python",
   "nbconvert_exporter": "python",
   "pygments_lexer": "ipython3",
   "version": "3.12.4"
  }
 },
 "nbformat": 4,
 "nbformat_minor": 2
}
