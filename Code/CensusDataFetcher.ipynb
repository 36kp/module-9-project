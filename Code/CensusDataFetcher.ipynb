{
  "cells": [
    {
      "cell_type": "code",
      "execution_count": 2,
      "metadata": {},
      "outputs": [],
      "source": [
        "# Please install the following packages before running the code\n",
        "# pip install census\n",
        "# pip install us\n",
        "\n",
        "import pandas as pd\n",
        "import requests\n",
        "from census import Census\n",
        "from us import states\n",
        "from dotenv import load_dotenv\n",
        "import os"
      ]
    },
    {
      "cell_type": "code",
      "execution_count": 6,
      "metadata": {},
      "outputs": [
        {
          "name": "stdout",
          "output_type": "stream",
          "text": [
            "365346d84221076d7cf76664f44b98673e81ded6\n"
          ]
        }
      ],
      "source": [
        "# add the API key to your environment (.env) as CENSUS_API_KEY=<your_key_here>\n",
        "# Load the .env file to get access to the API key\n",
        "load_dotenv()\n",
        "CENSUS_API_KEY = os.getenv('CENSUS_API_KEY')\n",
        "print(CENSUS_API_KEY)"
      ]
    },
    {
      "cell_type": "code",
      "execution_count": 7,
      "metadata": {},
      "outputs": [],
      "source": [
        "# Create a connection to the Census API\n",
        "c = Census(CENSUS_API_KEY)"
      ]
    },
    {
      "cell_type": "code",
      "execution_count": 47,
      "metadata": {},
      "outputs": [
        {
          "data": {
            "text/html": [
              "<div>\n",
              "<style scoped>\n",
              "    .dataframe tbody tr th:only-of-type {\n",
              "        vertical-align: middle;\n",
              "    }\n",
              "\n",
              "    .dataframe tbody tr th {\n",
              "        vertical-align: top;\n",
              "    }\n",
              "\n",
              "    .dataframe thead th {\n",
              "        text-align: right;\n",
              "    }\n",
              "</style>\n",
              "<table border=\"1\" class=\"dataframe\">\n",
              "  <thead>\n",
              "    <tr style=\"text-align: right;\">\n",
              "      <th></th>\n",
              "      <th>name</th>\n",
              "      <th>description</th>\n",
              "      <th>variables</th>\n",
              "      <th>universe</th>\n",
              "    </tr>\n",
              "  </thead>\n",
              "  <tbody>\n",
              "    <tr>\n",
              "      <th>0</th>\n",
              "      <td>B17015</td>\n",
              "      <td>Poverty Status in the Past 12 Months of Famili...</td>\n",
              "      <td>http://api.census.gov/data/2022/acs/acs5/group...</td>\n",
              "      <td>Families</td>\n",
              "    </tr>\n",
              "    <tr>\n",
              "      <th>1</th>\n",
              "      <td>B18104</td>\n",
              "      <td>Sex by Age by Cognitive Difficulty</td>\n",
              "      <td>http://api.census.gov/data/2022/acs/acs5/group...</td>\n",
              "      <td>Civilian noninstitutionalized population 5 yea...</td>\n",
              "    </tr>\n",
              "    <tr>\n",
              "      <th>2</th>\n",
              "      <td>B17016</td>\n",
              "      <td>Poverty Status in the Past 12 Months of Famili...</td>\n",
              "      <td>http://api.census.gov/data/2022/acs/acs5/group...</td>\n",
              "      <td>Families</td>\n",
              "    </tr>\n",
              "    <tr>\n",
              "      <th>3</th>\n",
              "      <td>B18105</td>\n",
              "      <td>Sex by Age by Ambulatory Difficulty</td>\n",
              "      <td>http://api.census.gov/data/2022/acs/acs5/group...</td>\n",
              "      <td>Civilian noninstitutionalized population 5 yea...</td>\n",
              "    </tr>\n",
              "    <tr>\n",
              "      <th>4</th>\n",
              "      <td>B17017</td>\n",
              "      <td>Poverty Status in the Past 12 Months by Househ...</td>\n",
              "      <td>http://api.census.gov/data/2022/acs/acs5/group...</td>\n",
              "      <td>Households</td>\n",
              "    </tr>\n",
              "    <tr>\n",
              "      <th>...</th>\n",
              "      <td>...</td>\n",
              "      <td>...</td>\n",
              "      <td>...</td>\n",
              "      <td>...</td>\n",
              "    </tr>\n",
              "    <tr>\n",
              "      <th>495</th>\n",
              "      <td>B99087</td>\n",
              "      <td>Allocation of Time Arriving at Work From Home ...</td>\n",
              "      <td>http://api.census.gov/data/2022/acs/acs5/group...</td>\n",
              "      <td>Workers 16 years and over</td>\n",
              "    </tr>\n",
              "    <tr>\n",
              "      <th>496</th>\n",
              "      <td>B99086</td>\n",
              "      <td>Allocation of Means of Transportation to Work ...</td>\n",
              "      <td>http://api.census.gov/data/2022/acs/acs5/group...</td>\n",
              "      <td>Workers 16 years and over</td>\n",
              "    </tr>\n",
              "    <tr>\n",
              "      <th>497</th>\n",
              "      <td>B99089</td>\n",
              "      <td>Allocation of Vehicles Available for Workers f...</td>\n",
              "      <td>http://api.census.gov/data/2022/acs/acs5/group...</td>\n",
              "      <td>Workers 16 years and over in households</td>\n",
              "    </tr>\n",
              "    <tr>\n",
              "      <th>498</th>\n",
              "      <td>B99088</td>\n",
              "      <td>Allocation of Travel Time to Work for Workplac...</td>\n",
              "      <td>http://api.census.gov/data/2022/acs/acs5/group...</td>\n",
              "      <td>Workers 16 years and over</td>\n",
              "    </tr>\n",
              "    <tr>\n",
              "      <th>499</th>\n",
              "      <td>B24121</td>\n",
              "      <td>Detailed Occupation by Median Earnings in the ...</td>\n",
              "      <td>http://api.census.gov/data/2022/acs/acs5/group...</td>\n",
              "      <td>Full-time, year-round civilian employed popula...</td>\n",
              "    </tr>\n",
              "  </tbody>\n",
              "</table>\n",
              "<p>500 rows × 4 columns</p>\n",
              "</div>"
            ],
            "text/plain": [
              "       name                                        description  \\\n",
              "0    B17015  Poverty Status in the Past 12 Months of Famili...   \n",
              "1    B18104                 Sex by Age by Cognitive Difficulty   \n",
              "2    B17016  Poverty Status in the Past 12 Months of Famili...   \n",
              "3    B18105                Sex by Age by Ambulatory Difficulty   \n",
              "4    B17017  Poverty Status in the Past 12 Months by Househ...   \n",
              "..      ...                                                ...   \n",
              "495  B99087  Allocation of Time Arriving at Work From Home ...   \n",
              "496  B99086  Allocation of Means of Transportation to Work ...   \n",
              "497  B99089  Allocation of Vehicles Available for Workers f...   \n",
              "498  B99088  Allocation of Travel Time to Work for Workplac...   \n",
              "499  B24121  Detailed Occupation by Median Earnings in the ...   \n",
              "\n",
              "                                             variables  \\\n",
              "0    http://api.census.gov/data/2022/acs/acs5/group...   \n",
              "1    http://api.census.gov/data/2022/acs/acs5/group...   \n",
              "2    http://api.census.gov/data/2022/acs/acs5/group...   \n",
              "3    http://api.census.gov/data/2022/acs/acs5/group...   \n",
              "4    http://api.census.gov/data/2022/acs/acs5/group...   \n",
              "..                                                 ...   \n",
              "495  http://api.census.gov/data/2022/acs/acs5/group...   \n",
              "496  http://api.census.gov/data/2022/acs/acs5/group...   \n",
              "497  http://api.census.gov/data/2022/acs/acs5/group...   \n",
              "498  http://api.census.gov/data/2022/acs/acs5/group...   \n",
              "499  http://api.census.gov/data/2022/acs/acs5/group...   \n",
              "\n",
              "                                             universe   \n",
              "0                                             Families  \n",
              "1    Civilian noninstitutionalized population 5 yea...  \n",
              "2                                             Families  \n",
              "3    Civilian noninstitutionalized population 5 yea...  \n",
              "4                                           Households  \n",
              "..                                                 ...  \n",
              "495                          Workers 16 years and over  \n",
              "496                          Workers 16 years and over  \n",
              "497            Workers 16 years and over in households  \n",
              "498                          Workers 16 years and over  \n",
              "499  Full-time, year-round civilian employed popula...  \n",
              "\n",
              "[500 rows x 4 columns]"
            ]
          },
          "metadata": {},
          "output_type": "display_data"
        },
        {
          "data": {
            "text/html": [
              "<div>\n",
              "<style scoped>\n",
              "    .dataframe tbody tr th:only-of-type {\n",
              "        vertical-align: middle;\n",
              "    }\n",
              "\n",
              "    .dataframe tbody tr th {\n",
              "        vertical-align: top;\n",
              "    }\n",
              "\n",
              "    .dataframe thead th {\n",
              "        text-align: right;\n",
              "    }\n",
              "</style>\n",
              "<table border=\"1\" class=\"dataframe\">\n",
              "  <thead>\n",
              "    <tr style=\"text-align: right;\">\n",
              "      <th></th>\n",
              "      <th>name</th>\n",
              "      <th>description</th>\n",
              "      <th>variables</th>\n",
              "      <th>universe</th>\n",
              "    </tr>\n",
              "  </thead>\n",
              "  <tbody>\n",
              "    <tr>\n",
              "      <th>1177</th>\n",
              "      <td>B99131</td>\n",
              "      <td>Allocation of Marital Status for Females 15 to...</td>\n",
              "      <td>http://api.census.gov/data/2022/acs/acs5/group...</td>\n",
              "      <td>Women 15 to 50 years</td>\n",
              "    </tr>\n",
              "    <tr>\n",
              "      <th>1178</th>\n",
              "      <td>B09018</td>\n",
              "      <td>Relationship to Householder for Children Under...</td>\n",
              "      <td>http://api.census.gov/data/2022/acs/acs5/group...</td>\n",
              "      <td>Population under 18 years in households (exclu...</td>\n",
              "    </tr>\n",
              "    <tr>\n",
              "      <th>1179</th>\n",
              "      <td>B09019</td>\n",
              "      <td>Household Type (Including Living Alone) by Rel...</td>\n",
              "      <td>http://api.census.gov/data/2022/acs/acs5/group...</td>\n",
              "      <td>Total population</td>\n",
              "    </tr>\n",
              "    <tr>\n",
              "      <th>1180</th>\n",
              "      <td>B99132</td>\n",
              "      <td>Allocation of Fertility of Women 15 to 50 Years</td>\n",
              "      <td>http://api.census.gov/data/2022/acs/acs5/group...</td>\n",
              "      <td>Women 15 to 50 years</td>\n",
              "    </tr>\n",
              "    <tr>\n",
              "      <th>1181</th>\n",
              "      <td>B09010</td>\n",
              "      <td>Receipt of Supplemental Security Income (SSI),...</td>\n",
              "      <td>http://api.census.gov/data/2022/acs/acs5/group...</td>\n",
              "      <td>Population under 18 years in households</td>\n",
              "    </tr>\n",
              "  </tbody>\n",
              "</table>\n",
              "</div>"
            ],
            "text/plain": [
              "        name                                        description  \\\n",
              "1177  B99131  Allocation of Marital Status for Females 15 to...   \n",
              "1178  B09018  Relationship to Householder for Children Under...   \n",
              "1179  B09019  Household Type (Including Living Alone) by Rel...   \n",
              "1180  B99132    Allocation of Fertility of Women 15 to 50 Years   \n",
              "1181  B09010  Receipt of Supplemental Security Income (SSI),...   \n",
              "\n",
              "                                              variables  \\\n",
              "1177  http://api.census.gov/data/2022/acs/acs5/group...   \n",
              "1178  http://api.census.gov/data/2022/acs/acs5/group...   \n",
              "1179  http://api.census.gov/data/2022/acs/acs5/group...   \n",
              "1180  http://api.census.gov/data/2022/acs/acs5/group...   \n",
              "1181  http://api.census.gov/data/2022/acs/acs5/group...   \n",
              "\n",
              "                                              universe   \n",
              "1177                               Women 15 to 50 years  \n",
              "1178  Population under 18 years in households (exclu...  \n",
              "1179                                   Total population  \n",
              "1180                               Women 15 to 50 years  \n",
              "1181            Population under 18 years in households  "
            ]
          },
          "metadata": {},
          "output_type": "display_data"
        }
      ],
      "source": [
        "tables = c.acs5.tables()\n",
        "df_tables = pd.DataFrame(tables)\n",
        "display(df_tables.head())\n",
        "display(df_tables.tail())"
      ]
    },
    {
      "cell_type": "code",
      "execution_count": 49,
      "metadata": {},
      "outputs": [
        {
          "data": {
            "text/plain": [
              "[{'NAME': 'Florida', 'B25034_010E': 184655.0, 'state': '12'}]"
            ]
          },
          "execution_count": 49,
          "metadata": {},
          "output_type": "execute_result"
        }
      ],
      "source": [
        "c.acs5.get(('NAME', 'B25034_010E'),{'for': 'state:{}'.format(states.FL.fips)})\n"
      ]
    },
    {
      "cell_type": "code",
      "execution_count": 50,
      "metadata": {},
      "outputs": [
        {
          "name": "stdout",
          "output_type": "stream",
          "text": [
            "https://api.census.gov/data/2019/pep/population?get=NAME,POP&for=place:53000&in=state:12&key=365346d84221076d7cf76664f44b98673e81ded6\n",
            "                       0       1      2      3\n",
            "0                   NAME     POP  state  place\n",
            "1  Orlando city, Florida  287442     12  53000\n"
          ]
        }
      ],
      "source": [
        "vintage = \"2019\"\n",
        "place = \"53000\" # Orlando\n",
        "state = \"12\" # Florida\n",
        "get = \"NAME,POP\"\n",
        "dataSet = \"pep/population\"\n",
        "\n",
        "url = f\"https://api.census.gov/data/{vintage}/{dataSet}?get={get}&for=place:{place}&in=state:{state}&key={CENSUS_API_KEY}\"\n",
        "print(url)\n",
        "df = pd.read_json(url)\n",
        "print(df.head())"
      ]
    },
    {
      "cell_type": "code",
      "execution_count": 63,
      "metadata": {},
      "outputs": [
        {
          "name": "stdout",
          "output_type": "stream",
          "text": [
            "https://api.census.gov/data/2019/pep/population?get=NAME,POP&for=place:53000&in=state:12&key=365346d84221076d7cf76664f44b98673e81ded6\n",
            "                       0       1      2      3\n",
            "0                   NAME     POP  state  place\n",
            "1  Orlando city, Florida  287442     12  53000\n"
          ]
        }
      ],
      "source": [
        "baseURL = \"https://api.census.gov/data\"\n",
        "dataSet = \"pep/population\"\n",
        "\n",
        "vintage = \"2019\"\n",
        "place = \"53000\" # Orlando\n",
        "state = \"12\" # Florida\n",
        "get = \"NAME,POP\"\n",
        "\n",
        "url = f\"{baseURL}/{vintage}/{dataSet}?get={get}&for=place:{place}&in=state:{state}&key={CENSUS_API_KEY}\"\n",
        "print(url)\n",
        "df = pd.read_json(url)\n",
        "print(df.head())\n"
      ]
    },
    {
      "cell_type": "code",
      "execution_count": 7,
      "metadata": {},
      "outputs": [],
      "source": [
        "# save the data to a csv file\n",
        "\n",
        "save_path = \"../Resources/\"\n",
        "if not os.path.exists(save_path):\n",
        "    os.makedirs(save_path)\n",
        "\n",
        "df.to_csv(os.path.join(save_path, \"census_data.csv\"), index=False)\n"
      ]
    }
  ],
  "metadata": {
    "colab": {
      "provenance": []
    },
    "kernelspec": {
      "display_name": "Python 3 (ipykernel)",
      "language": "python",
      "name": "python3"
    },
    "language_info": {
      "codemirror_mode": {
        "name": "ipython",
        "version": 3
      },
      "file_extension": ".py",
      "mimetype": "text/x-python",
      "name": "python",
      "nbconvert_exporter": "python",
      "pygments_lexer": "ipython3",
      "version": "3.12.4"
    }
  },
  "nbformat": 4,
  "nbformat_minor": 0
}
